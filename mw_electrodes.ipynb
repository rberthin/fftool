{
 "cells": [
  {
   "cell_type": "code",
   "execution_count": 94,
   "metadata": {},
   "outputs": [
    {
     "data": {
      "text/plain": [
       "0"
      ]
     },
     "execution_count": 94,
     "metadata": {},
     "output_type": "execute_result"
    }
   ],
   "source": [
    "import os\n",
    "os.system(\"cp data.inpt data_noelectrodes.inpt\")\n",
    "os.system(\"mv runtime.inpt runtime_noelectrodes.inpt\")"
   ]
  },
  {
   "cell_type": "code",
   "execution_count": 144,
   "metadata": {},
   "outputs": [
    {
     "name": "stdout",
     "output_type": "stream",
     "text": [
      "0 ft\n",
      "1 ft\n"
     ]
    }
   ],
   "source": [
    "name = []\n",
    "typ = []\n",
    "file = []\n",
    "count = []\n",
    "mass = []\n",
    "width = []\n",
    "magnitude = []\n",
    "pot_typ = []\n",
    "pot1 = []\n",
    "pot2 = []\n",
    "pot3 = []\n",
    "pot4 = []\n",
    "pot5 = []\n",
    "pot6 = []\n",
    "\n",
    "with open('elec.inpt') as f:\n",
    "    nb_elec = f.readline()\n",
    "    counter = int(nb_elec)\n",
    "    for i in range(int(nb_elec)):\n",
    "        temp = f.readline()\n",
    "        name.append(temp.split()[0])\n",
    "        typ.append(temp.split()[1])\n",
    "        if typ[i] == 'wall':\n",
    "            counter = counter - 1\n",
    "        count.append(temp.split()[2])\n",
    "        mass.append(temp.split()[3])\n",
    "        width.append(temp.split()[4])\n",
    "        magnitude.append(temp.split()[5])\n",
    "        pot_typ.append(temp.split()[6])\n",
    "        print(i, pot_typ[i])\n",
    "        if pot_typ[i] == \"lj\":\n",
    "            pot1.append(float(temp.split()[7]))\n",
    "            pot2.append(float(temp.split()[8]))\n",
    "        if pot_typ[i] == \"ft\":\n",
    "            pot1.append(float(temp.split()[7]))\n",
    "            pot2.append(float(temp.split()[8]))\n",
    "            pot3.append(float(temp.split()[9]))\n",
    "            pot4.append(float(temp.split()[10]))\n",
    "            pot5.append(float(temp.split()[11]))\n",
    "            pot6.append(float(temp.split()[12]))\n",
    "\n",
    "        temp = f.readline()\n",
    "        file.append(temp.split()[0])\n",
    "    elec_charges = f.readline()\n",
    "    neutrality = f.readline()\n",
    "    compute_force = f.readline()"
   ]
  },
  {
   "cell_type": "code",
   "execution_count": 145,
   "metadata": {},
   "outputs": [],
   "source": [
    "out = open(\"runtime.inpt\", \"w\")  \n",
    "lj = False\n",
    "ft = False\n",
    "\n",
    "with open(\"runtime_noelectrodes.inpt\", \"r\") as run:\n",
    "    \n",
    "    for line in run:\n",
    "        if (line.lstrip()).startswith(\"molecules\"):\n",
    "            break\n",
    "        else :\n",
    "            out.write(\"{0}\".format(line))\n",
    "    for i in range(int(nb_elec)):  \n",
    "        if typ[i] == 'elec':\n",
    "            out.write(\"  species_type\\n\")\n",
    "            out.write(\"    name {0}\\n\".format(name[i]))\n",
    "            out.write(\"    count {0}\\n\".format(count[i]))\n",
    "            out.write(\"    charge gaussian {0}  {1}\\n\".format(width[i], magnitude[i]))\n",
    "            out.write(\"    mass {0}\\n\".format(mass[i]))\n",
    "            out.write(\"    mobile False\\n\\n\")\n",
    "        if typ[i] == 'wall':\n",
    "            out.write(\"  species_type\\n\")\n",
    "            out.write(\"    name {0}\\n\".format(name[i]))\n",
    "            out.write(\"    count {0}\\n\".format(count[i]))    \n",
    "            out.write(\"    charge point 0.0\\n\")\n",
    "            out.write(\"    mass {0}\\n\".format(mass[i]))\n",
    "            out.write(\"    mobile False\\n\\n\")\n",
    "            \n",
    "    out.write(\"molecules\\n\")   \n",
    "    for line in run:\n",
    "        if (line.lstrip()).startswith(\"interactions\"):\n",
    "            break\n",
    "        else :\n",
    "            out.write(\"{0}\".format(line))\n",
    "            \n",
    "    out.write(\"electrodes\\n\\n\")        \n",
    "    for i in range(counter):\n",
    "        out.write(\"  electrode_type\\n\")\n",
    "        out.write(\"  name   {0}\\n\".format(name[i]))\n",
    "        out.write(\"  species   {0}\\n\".format(name[i]))\n",
    "        out.write(\"  potential   0\\n\")\n",
    "        out.write(\"  #piston 0.0 1\\n\")\n",
    "        out.write(\"  #thomas_fermi_length 0.0\\n\")\n",
    "        out.write(\"  #voronoi_volume ***\\n\\n\")\n",
    "    out.write(\"  {0}\".format(elec_charges))\n",
    "    out.write(\"  {0}\".format(neutrality))\n",
    "    out.write(\"  {0}\\n\".format(compute_force))\n",
    "    \n",
    "    out.write(\"interactions\\n\")\n",
    "    for line in run:\n",
    "        if (line.lstrip()).startswith(\"coulomb\"):\n",
    "            out.write(\"{0}\".format(line))\n",
    "            \n",
    "        if (line.lstrip()).startswith(\"lennard-jones\"):\n",
    "            lj = True\n",
    "            out.write(\"\\n{0}\".format(line))\n",
    "            out.write(\"     #lj_3D_tail_correction\\n\")\n",
    "        if (line.lstrip()).startswith(\"lj\"):\n",
    "            out.write(\"{0}\".format(line))\n",
    "                \n",
    "        if (line.lstrip()).startswith(\"fumi-tosi\"):\n",
    "            ft = True\n",
    "            out.write(\"\\n{0}\".format(line))\n",
    "            out.write(\"     #ft_3D_pressure_tail_correction\\n\")\n",
    "        if (line.lstrip()).startswith(\"ft\"):\n",
    "            out.write(\"{0}\".format(line))\n",
    "            \n",
    "        for i in range(int(nb_elec)):   \n",
    "            if lj:\n",
    "                out.write(\"     lj_pair  {0:4s} {1:4s}  {2}   {3}\\n\".format(name[i], name[i],\n",
    "                        pot1[i], pot2[i]))\n",
    "            if ft:\n",
    "                out.write(\"     ft_pair  {0:4s} {1:4s}  {2}  {3}  {4}  {5}  {6}  {7}\\n\".format(\n",
    "                           name[i], name[i], pot1[i], pot2[i], pot3[i], pot4[i], pot5[i], pot6[i]))\n",
    "\n",
    "        if (line.lstrip()).startswith(\"damping\"):\n",
    "            out.write(\"\\n{0}\".format(line)) \n",
    "        if (line.lstrip()).startswith(\"tt\"):\n",
    "            out.write(\"{0}\".format(line))\n",
    "    out.write(\"\\noutput\\n\")\n",
    "    out.write(\"  default 1\\n\")\n"
   ]
  },
  {
   "cell_type": "code",
   "execution_count": null,
   "metadata": {},
   "outputs": [],
   "source": []
  },
  {
   "cell_type": "code",
   "execution_count": null,
   "metadata": {},
   "outputs": [],
   "source": []
  }
 ],
 "metadata": {
  "kernelspec": {
   "display_name": "Python 3",
   "language": "python",
   "name": "python3"
  },
  "language_info": {
   "codemirror_mode": {
    "name": "ipython",
    "version": 3
   },
   "file_extension": ".py",
   "mimetype": "text/x-python",
   "name": "python",
   "nbconvert_exporter": "python",
   "pygments_lexer": "ipython3",
   "version": "3.7.7"
  }
 },
 "nbformat": 4,
 "nbformat_minor": 4
}
